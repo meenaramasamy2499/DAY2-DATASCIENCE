{
 "cells": [
  {
   "cell_type": "markdown",
   "metadata": {},
   "source": [
    "# Create an empty list. Accept 10 numbers from the user and append to it the list if it is an even number.\n"
   ]
  },
  {
   "cell_type": "code",
   "execution_count": 1,
   "metadata": {},
   "outputs": [],
   "source": [
    "list=[ ]"
   ]
  },
  {
   "cell_type": "code",
   "execution_count": 5,
   "metadata": {},
   "outputs": [
    {
     "name": "stdout",
     "output_type": "stream",
     "text": [
      "[]\n"
     ]
    }
   ],
   "source": [
    "print(list);"
   ]
  },
  {
   "cell_type": "code",
   "execution_count": 16,
   "metadata": {
    "scrolled": true
   },
   "outputs": [
    {
     "name": "stdout",
     "output_type": "stream",
     "text": [
      " no of elements : 4\n",
      "1\n",
      "2\n",
      "3\n",
      "4\n",
      "[1, 2, 3, 4]\n"
     ]
    }
   ],
   "source": [
    "\n",
    "lst = [] \n",
    "n = int(input(\" no of elements : \"))\n",
    "for i in range(0, n): \n",
    "    ele = int(input())\n",
    "    if n%2 ==0:\n",
    "  \n",
    "        lst.append(ele)  \n",
    "      \n",
    "print(lst) "
   ]
  },
  {
   "cell_type": "code",
   "execution_count": 17,
   "metadata": {},
   "outputs": [
    {
     "name": "stdout",
     "output_type": "stream",
     "text": [
      " no of elements : 3\n",
      "1\n",
      "2\n",
      "3\n",
      "[]\n"
     ]
    }
   ],
   "source": [
    "lst = [] \n",
    "n = int(input(\" no of elements : \"))\n",
    "for i in range(0, n): \n",
    "    ele = int(input())\n",
    "    if n%2 ==0:\n",
    "  \n",
    "        lst.append(ele)  \n",
    "      \n",
    "print(lst) "
   ]
  },
  {
   "cell_type": "markdown",
   "metadata": {},
   "source": [
    "# You have seen in the videos how powerful dictionary data structure is.In this assignment, given a number n, you have to write a program that generates a dictionary d whichcontains (i, i*i), where i is from 1 to n (both included).Then you have to just print this dictionary d.\n",
    "Example:\n",
    "Input: 4\n",
    "will give output as\n",
    "{1: 1, 2: 4, 3: 9, 4: 16}\n",
    "Input Format:\n",
    "Take the number n in a single line.\n",
    "Output Format:\n",
    "Print the dictionary d in a single line."
   ]
  },
  {
   "cell_type": "code",
   "execution_count": 19,
   "metadata": {},
   "outputs": [
    {
     "name": "stdout",
     "output_type": "stream",
     "text": [
      "n is 4\n",
      "{1: 1, 2: 4, 3: 9, 4: 16}\n"
     ]
    }
   ],
   "source": [
    "# Dictionary : { KEY : VALUE}\n",
    "n=int(input(\"n is \"))\n",
    "d = dict()\n",
    "\n",
    "for i in range(1,n+1):\n",
    "    d[i]=i*i\n",
    "\n",
    "print(d) "
   ]
  },
  {
   "cell_type": "code",
   "execution_count": 20,
   "metadata": {},
   "outputs": [
    {
     "name": "stdout",
     "output_type": "stream",
     "text": [
      "n is 8\n",
      "{1: 1, 2: 4, 3: 9, 4: 16, 5: 25, 6: 36, 7: 49, 8: 64}\n"
     ]
    }
   ],
   "source": [
    "n=int(input(\"n is \"))\n",
    "d = dict()\n",
    "\n",
    "for i in range(1,n+1):\n",
    "    d[i]=i*i\n",
    "\n",
    "print(d) \n"
   ]
  },
  {
   "cell_type": "markdown",
   "metadata": {},
   "source": [
    "# There is a robot which wants to go the charging point to charge itself.The robot moves in a 2-D plane from the original point (0,0). The robot canmove toward UP, DOWN, LEFT and RIGHT with given steps.The trace of robot movement is shown as the following:\n",
    "UP 5\n",
    "DOWN 3\n",
    "LEFT 3\n",
    "RIGHT 2\n",
    "Then, the output of the program should be:\n",
    "2\n",
    "The numbers after the direction are steps.\n",
    "Write a program to compute the distance between the current position after\n",
    "a sequence of movement and original point. If the distance is a float, then\n",
    "just print the nearest integer (use round() function for that and then convert\n",
    "it into an integer).\n",
    "Input Format:\n",
    "The first line of the input contains a number n which implies the number of\n",
    "directions to be given.\n",
    "The next n lines contain the direction and the step separated by a space.\n",
    "Output Format:\n",
    "Print the distance from the original position to the current position."
   ]
  },
  {
   "cell_type": "code",
   "execution_count": 26,
   "metadata": {},
   "outputs": [
    {
     "name": "stdout",
     "output_type": "stream",
     "text": [
      "Type in UP/DOWN/LEFT/RIGHT #step number: UP 5\n",
      "Type in UP/DOWN/LEFT/RIGHT #step number: DOWN 3\n",
      "Type in UP/DOWN/LEFT/RIGHT #step number: RIGHT 2\n",
      "Type in UP/DOWN/LEFT/RIGHT #step number: LEFT 3\n",
      "Type in UP/DOWN/LEFT/RIGHT #step number: \n",
      "Distance: 2.23606797749979\n"
     ]
    }
   ],
   "source": [
    "import math\n",
    "x, y = 0, 0\n",
    "\n",
    "while True:\n",
    "    step = input(\"Type in UP/DOWN/LEFT/RIGHT #step number: \")\n",
    "\n",
    "    if step == \"\":\n",
    "        break\n",
    "\n",
    "    else:\n",
    "        step = step.split(\" \")\n",
    "\n",
    "        if step[0] == \"UP\":\n",
    "            y = y + int(step[1])\n",
    "        elif step[0] == \"DOWN\":\n",
    "            y = y - int(step[1])\n",
    "        elif step[0] == \"LEFT\":\n",
    "            x = x - int(step[1])\n",
    "        elif step[0] == \"RIGHT\":\n",
    "            x = x + int(step[1])\n",
    "\n",
    "c = math.sqrt(x**2 + y**2)\n",
    "\n",
    "print(\"Distance:\", c)"
   ]
  },
  {
   "cell_type": "code",
   "execution_count": null,
   "metadata": {},
   "outputs": [],
   "source": []
  }
 ],
 "metadata": {
  "kernelspec": {
   "display_name": "Python 3",
   "language": "python",
   "name": "python3"
  },
  "language_info": {
   "codemirror_mode": {
    "name": "ipython",
    "version": 3
   },
   "file_extension": ".py",
   "mimetype": "text/x-python",
   "name": "python",
   "nbconvert_exporter": "python",
   "pygments_lexer": "ipython3",
   "version": "3.7.6"
  }
 },
 "nbformat": 4,
 "nbformat_minor": 4
}
